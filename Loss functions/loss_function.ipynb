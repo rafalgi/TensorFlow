{
 "cells": [
  {
   "cell_type": "markdown",
   "id": "40b0247b-6d52-47de-ad98-235a9972d281",
   "metadata": {},
   "source": [
    "## Accuracy\n",
    "\n",
    "### $ Accuracy =  \\frac{correct predictions} {total predictions} * 100 $"
   ]
  },
  {
   "cell_type": "code",
   "execution_count": 2,
   "id": "36439591-7a65-482b-94c3-6ae452ed0e4f",
   "metadata": {},
   "outputs": [],
   "source": [
    "import numpy as np\n",
    "y_true = np.array([1 , 0 , 1 , 1 , 0 , 1])\n",
    "y_pred = np.array([0 , 0 , 1 , 0 , 1 , 1])\n",
    "\n",
    "def accuracy(y_true , y_pred):\n",
    "    correct = 0\n",
    "\n",
    "    for i in range(len(y_true)):\n",
    "        if y_true[i] == y_pred[i]:\n",
    "            correct += 1 \n",
    "    return correct / len(y_true) * 100"
   ]
  },
  {
   "cell_type": "code",
   "execution_count": 3,
   "id": "a7926d25-2e46-4a45-b7bf-371f14530db4",
   "metadata": {},
   "outputs": [
    {
     "name": "stdout",
     "output_type": "stream",
     "text": [
      "50.0\n"
     ]
    }
   ],
   "source": [
    "print(accuracy(y_true , y_pred))"
   ]
  },
  {
   "cell_type": "markdown",
   "id": "4c18fea2-2075-44cb-a6c1-4a481e8a036b",
   "metadata": {},
   "source": [
    "# Entropia rozkładu prawdopodobieństwa"
   ]
  },
  {
   "cell_type": "code",
   "execution_count": 4,
   "id": "1fce0796-a743-4619-a5d2-71135c2bea98",
   "metadata": {},
   "outputs": [
    {
     "data": {
      "text/plain": [
       "0.9426312039378821"
      ]
     },
     "execution_count": 4,
     "metadata": {},
     "output_type": "execute_result"
    }
   ],
   "source": [
    "def entropy(labels):\n",
    "    \n",
    "    n_labels = len(labels)\n",
    "\n",
    "    if n_labels <= 1:\n",
    "        return 0\n",
    "\n",
    "    counts = np.bincount(labels)\n",
    "    probs = counts[np.nonzero(counts)] / n_labels\n",
    "    n_classes = len(probs)\n",
    "\n",
    "    if n_classes <= 1:\n",
    "        return 0\n",
    "    return - np.sum(probs * np.log(probs)) / np.log(n_classes)\n",
    "labels = [1,3,5,2,3,5,3,2,1,3,4,5]\n",
    "entropy(labels)"
   ]
  },
  {
   "cell_type": "markdown",
   "id": "8b7f9ae6-b528-4532-befd-3435a6700319",
   "metadata": {},
   "source": [
    "# Binary Crossentropy - Binarna Entropia Krzyzowa"
   ]
  },
  {
   "cell_type": "code",
   "execution_count": 8,
   "id": "aea03a8b-6d03-435b-9c6a-06860282736a",
   "metadata": {},
   "outputs": [],
   "source": [
    "def binary_crossentropy(y_true , y_pred):\n",
    "    y_pred = np.clip(y_pred , 0.00000001 , 1-0.00000001)\n",
    "    return -y_true * np.log(y_pred) - (1 - y_true) * np.log(1-y_pred)"
   ]
  },
  {
   "cell_type": "code",
   "execution_count": 9,
   "id": "f48eb1a8-112d-4f7b-8077-0ca84474e575",
   "metadata": {},
   "outputs": [
    {
     "data": {
      "text/plain": [
       "array([1.84206807e+01, 1.00000001e-08, 1.00000001e-08, 1.84206807e+01,\n",
       "       1.84206807e+01, 1.00000001e-08])"
      ]
     },
     "execution_count": 9,
     "metadata": {},
     "output_type": "execute_result"
    }
   ],
   "source": [
    "y_true = np.array([1 , 0 , 1 , 1 , 0 , 1])\n",
    "y_pred = np.array([0 , 0 , 1 , 0 , 1 , 1])\n",
    "binary_crossentropy(y_true , y_pred)"
   ]
  },
  {
   "cell_type": "markdown",
   "id": "0c783a75-574c-44f5-ab12-ce7cebe44f0d",
   "metadata": {},
   "source": [
    "# Cateogrical Crossentropy - Kategoryczna Entropia Krzyzoiwa"
   ]
  },
  {
   "cell_type": "code",
   "execution_count": 19,
   "id": "6d059881-a939-4c33-a766-4e0ff193c537",
   "metadata": {},
   "outputs": [],
   "source": [
    "y_true = np.array([1 , 0 , 0,0,0])\n",
    "y_pred = np.array([0.4 , 0.3 , 0.05 , 0.05 , 0.2])"
   ]
  },
  {
   "cell_type": "code",
   "execution_count": 21,
   "id": "94bff95a-645c-4102-91c2-6dadfea06693",
   "metadata": {},
   "outputs": [
    {
     "data": {
      "text/plain": [
       "0.916290731874155"
      ]
     },
     "execution_count": 21,
     "metadata": {},
     "output_type": "execute_result"
    }
   ],
   "source": [
    "def categorical_crossentropy(y_true , y_pred):\n",
    "    y_pred = np.clip(y_pred , 0.00000001 , 1-0.00000001)\n",
    "    return -np.sum(y_true * np.log(y_pred))\n",
    "\n",
    "categorical_crossentropy(y_true ,  y_pred)"
   ]
  }
 ],
 "metadata": {
  "kernelspec": {
   "display_name": "Python 3 (ipykernel)",
   "language": "python",
   "name": "python3"
  },
  "language_info": {
   "codemirror_mode": {
    "name": "ipython",
    "version": 3
   },
   "file_extension": ".py",
   "mimetype": "text/x-python",
   "name": "python",
   "nbconvert_exporter": "python",
   "pygments_lexer": "ipython3",
   "version": "3.11.9"
  }
 },
 "nbformat": 4,
 "nbformat_minor": 5
}
